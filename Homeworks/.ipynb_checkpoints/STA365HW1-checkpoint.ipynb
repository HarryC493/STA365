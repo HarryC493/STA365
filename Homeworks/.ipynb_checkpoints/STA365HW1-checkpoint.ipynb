{
 "cells": [
  {
   "cell_type": "markdown",
   "id": "b798c3f4",
   "metadata": {
    "slideshow": {
     "slide_type": "slide"
    }
   },
   "source": [
    "# Class Activity [10 minutes]:<br>Most Basic Bayesian Interview Question\n",
    "\n",
    "---\n",
    "\n",
    "> What's the chance you have the disease if you tested postive?\n",
    "\n",
    "- What do you need to know to answer this?\n",
    "\n",
    "\n",
    "\\begin{align*}\n",
    "\\color{black}{Pr(D)} &\\color{black}{=}{} \\color{black}{p} &\\color{black}{\\Longrightarrow}{} && \\color{black}{Pr(\\text{not }D)} &\\color{black}{=}{} \\color{black}{1-p}  \\\\\n",
    "\\color{black}{Pr(+|D)} &\\color{black}{=}{} \\color{black}{q} &\\color{black}{\\Longrightarrow}{} && \\color{black}{Pr(-|D)} &\\color{black}{=}{} \\color{black}{1-q}\\\\\n",
    "\\color{black}{Pr(+|\\text{not }D)} &\\color{black}{=}{} \\color{black}{q'} &\\color{black}{\\Longrightarrow}{} && \\color{back}{Pr(-|\\text{not }D)} &\\color{black}{=}{} \\color{black}{1-q'}\\\\\\\\\n",
    "\\color{red}{Pr(D|+)} &\\color{red}{=}{} \\color{red}{?}\\\\\n",
    "\\end{align*}\n"
   ]
  },
  {
   "cell_type": "markdown",
   "id": "371f2dca",
   "metadata": {
    "slideshow": {
     "slide_type": "slide"
    }
   },
   "source": [
    "# Answer Review [4 minutes]<br>Most Basic Bayesian Interview Question\n",
    "\n",
    "---\n",
    "\n",
    "### Law of Total Probability \n",
    "\n",
    "\\begin{align*}\n",
    "\\color{black}{Pr(+)} &\\color{black}{=}{} \\color{black}{\\sum_{\\mathcal{x\\in X}} Pr(+,x) = Pr(+,D) + Pr(+,\\text{not }D)}\\\\\n",
    "&\\color{black}{=}{} \\color{black}{\\color{blue}{Pr(+|D)Pr(D)} + Pr(+|\\text{not }D)Pr(\\text{not }D) = qp + q'(1-p)}\n",
    "\\end{align*}\n",
    "\n",
    "### Bayes Theorem \n",
    "\n",
    "\\begin{align*}\n",
    "\\color{black}{Pr(D|+)} &\\color{black}{=}{} \\color{black}{\\frac{\\color{blue}{Pr(+|D)Pr(D)}}{Pr(+)} = \\frac{\\color{blue}{Pr(+|D)Pr(D)}}{\\color{blue}{Pr(+|D)Pr(D)} + Pr(+|\\text{not }D) Pr(\\text{not }D)} = \\frac{qp}{qp + q'(1-p)}}\n",
    "\\end{align*}\n"
   ]
  },
  {
   "cell_type": "markdown",
   "id": "b7515250",
   "metadata": {
    "slideshow": {
     "slide_type": "slide"
    }
   },
   "source": [
    "# Bayesian Versus Frequentist Philosophy<br>[5 minutes]\n",
    "\n",
    "- ***FREQUENTIST***:<br>**Parameter** $\\theta$ in a **likelihood** $f_\\theta(x)$ is a fixed value to be estimated\n",
    "\n",
    "    - No interesting probability statements to be made about **parameters**\n",
    "\n",
    "\n",
    "<br>\n",
    "\n",
    "- ***BAYESIAN***:<br>The **uncertainty** in $\\theta$ can be modeled as (**posterior**) **distribution** $p(\\theta|x)$\n",
    "\n",
    "    - All statements about **parameters** are probability statements<br><br>\n",
    "    \n",
    "    - **Bayes theorem** coherently assess **parameter uncertainty** as a **posterior** $p(\\theta|x)$ given **likelihood** $f_\\theta(x) = p(x|\\theta)$ and **prior** $p(\\theta)$"
   ]
  },
  {
   "cell_type": "markdown",
   "id": "abd97725",
   "metadata": {
    "slideshow": {
     "slide_type": "slide"
    }
   },
   "source": [
    "# Bayesian Terminology [10 minutes]\n",
    "---\n",
    "\\begin{align*}\n",
    "\\text{Likelihood} && p(x|\\theta) & \\quad \\text{ often written as }f_\\theta(x)\\\\\n",
    "\\text{Prior} && p(\\theta)\\\\\n",
    "\\text{Posterior} && p(\\theta|x) &={} \\overset{\\text{Bayes Theorem}}{\\frac{p(x|\\theta)p(\\theta)}{p(x)}} = \\frac{p(x, \\theta)}{p(x)} \\\\\\\\\n",
    "\\text{Marginal Likelihood} && p(x) &={} \\underset{\\text{Law of Total Probability}}{\\int p(x|\\theta)p(\\theta) d\\theta} \\\\\n",
    "\\text{Join Distribution} && p(\\theta,x) \\\\\n",
    "\\text{The Posterial is always} && p(\\theta|x) &\\propto{} p(\\theta,x)\\\\\n",
    "&&& \\text{proportional to the joint}\n",
    "\\end{align*}\n"
   ]
  },
  {
   "cell_type": "markdown",
   "id": "4666d9dd",
   "metadata": {
    "slideshow": {
     "slide_type": "slide"
    }
   },
   "source": [
    "# Bayesian/Sequential Learning [9 minutes]\n",
    "\n",
    "\\begin{align*}\n",
    "\\text{Conditional Independence} && p(x_2|\\theta) &={} p(x_2|x_1,\\theta) \\; \\text{ or } \\; (x_2 \\perp\\!\\!\\!\\perp x_1 | \\theta)\n",
    "\\end{align*}\n",
    "\n",
    "\\begin{align*}\n",
    "p(\\theta|x_2,x_1) &\\propto{} p(x_2, x_1, \\theta)\\\\\n",
    "& = {} \\underbrace{p(x_2| \\theta, x_1)} p(x_1 | \\theta) p(\\theta)\n",
    "\\color{gray}{\\longleftarrow \\text{chain rule}}\\\\\n",
    "& \\quad (x_2 \\perp\\!\\!\\!\\perp x_1 | \\theta)\\\\\n",
    "& = {} \\overbrace{\\;\\;p(x_2| \\theta)\\;\\;} \\underbrace{p(x_1 | \\theta) p(\\theta)}_{\\propto \\; p(\\theta|x_1)}\\\\\n",
    "&\\propto{}  p(x_2| \\theta) \\underbrace{p(\\theta | x_1)}_{\\text{new prior}} \\longleftarrow \\text{previous posterior}\n",
    "\\end{align*}\n",
    "\n",
    "A prior is updated to a posterior which becomes the new prior for the next data"
   ]
  },
  {
   "cell_type": "markdown",
   "id": "fe418f76",
   "metadata": {
    "slideshow": {
     "slide_type": "slide"
    }
   },
   "source": [
    "# Bayesian/Sequential Learning\n",
    "\n",
    "A prior is updated to a posterior which becomes the new prior for the next data\n",
    "\n",
    "\\begin{array}{llll}\n",
    "1.&&\\!\\!\\!\\!\\!\\!&\\!\\!\\!\\!\\!\\!p(\\theta | x_1) \\propto {} f(x_1|\\theta)p(\\theta) \\\\\n",
    "2.&&\\!\\!\\!\\!\\!\\! p(\\theta | x_1, x_2) \\propto f(x_2|\\theta)&\\!\\!\\!\\!\\!\\!p(\\theta | x_1) \\\\\n",
    "3.&p(\\theta | x_1, x_2, x_3) \\propto{} f(x_3|\\theta) & \\!\\!\\!\\!\\!\\! p(\\theta | x_1, x_2)  \\\\\n",
    "\\vdots\\\\\n",
    "\\end{array}\n",
    "\n",
    "### Is this different from Batch Updates? [5 minutes]\n",
    "\n",
    "$$p(\\theta | x_1, x_2, x_3) \\propto f(x_1,x_2,x_3|\\theta)p(\\theta)\n",
    "\\overset{(x_i \\perp\\!\\!\\perp x_j | \\theta)}{=} \\underbrace{f(x_1|\\theta)f(x_2|\\theta)f(x_3|\\theta)p(\\theta)}_{\\left[ \\prod_{i=1}^{3}f(x_i|\\theta)\\right]p(\\theta)} $$"
   ]
  },
  {
   "cell_type": "markdown",
   "id": "d844c99b",
   "metadata": {
    "slideshow": {
     "slide_type": "slide"
    }
   },
   "source": [
    "# Criticisms of Bayesian Analysis [6 minutes]\n",
    "\n",
    "- \"Your prior is subjective\"\n",
    "\n",
    "    - Response: \"Your likelihood is subjective\",<br>\"Your model selection is subjective\", etc. Where does this stop...?\n",
    "    \n",
    "        - Affects **Frequentists** as well...<br>\"All models are wrong, some are useful.\"\n",
    "        \n",
    "        \n",
    "- \"Bayesian analysis is computationally expensive\"\n",
    "\n",
    "    - Response: In the end, a method is or is not computationally tractiable. Faster methods may always be preferred...\n",
    "    \n",
    "        - There will be things you **can't** do unless you're ***Bayesian***</font>\n",
    "  "
   ]
  },
  {
   "cell_type": "markdown",
   "id": "854acef9",
   "metadata": {
    "slideshow": {
     "slide_type": "slide"
    }
   },
   "source": [
    "# A first (toy) model: beta-binomial [15 minutes]\n",
    "\n",
    "\\begin{align*}\n",
    "p(x|\\theta,n) &={} \\left( \\begin{array}{c}n\\\\x\\end{array}\\right) \\theta^{x}(1-\\theta)^{n-x} \\quad\\quad\\;\\;\\; [n \\text{ given}]\\\\\n",
    "p(\\theta|\\alpha,\\beta) &={} \\frac{\\Gamma(\\alpha+\\beta)}{\\Gamma(\\alpha)\\Gamma(\\beta)}\\theta^{\\alpha-1}(1-\\theta)^{\\beta-1} \\quad \\begin{array}{l}\\text{$\\alpha$ and $\\beta$ are called}\\\\ \\textbf{hyperparameters}\\end{array}\\\\\n",
    "p(\\theta|x) &={} ?\\\\\n",
    "\\text{Hint: } p(\\theta|x) &\\propto{} p(\\theta,x)\\\\\n",
    "&={} p(x|\\theta)p(\\theta)\\\\\n",
    "&={} \\left( \\begin{array}{c}n\\\\k\\end{array}\\right) \\theta^{x}(1-\\theta)^{n-x} \\frac{\\Gamma(\\alpha+\\beta)}{\\Gamma(\\alpha)\\Gamma(\\beta)}\\theta^{\\alpha-1}(1-\\theta)^{\\beta-1}\\\\\n",
    "&\\propto{}  \\theta^{x}(1-\\theta)^{n-x} \\theta^{\\alpha-1}(1-\\theta)^{\\beta-1}\\\\\n",
    "&={}  \\theta^{x+\\alpha-1}(1-\\theta)^{n-x+\\beta-1} \\Rightarrow \\; \\text{What distribution?}\n",
    "\\end{align*}"
   ]
  },
  {
   "cell_type": "markdown",
   "id": "c8b84c2c",
   "metadata": {
    "slideshow": {
     "slide_type": "slide"
    }
   },
   "source": [
    "# # The \"Classic Bayes\" Figure [10 minutes]"
   ]
  },
  {
   "cell_type": "code",
   "execution_count": 3,
   "id": "bd186514",
   "metadata": {},
   "outputs": [
    {
     "data": {
      "image/png": "[encoded data removed]",
      "text/plain": [
       "<Figure size 1200x400 with 1 Axes>"
      ]
     },
     "metadata": {},
     "output_type": "display_data"
    }
   ],
   "source": [
    "import numpy as np; from scipy import stats; import matplotlib.pyplot as plt\n",
    "n,x=10,8; alpha,beta=10,11; parameter_domain = np.linspace(0,1,1001)\n",
    "likelihood = stats.binom.pmf(n=n, k=x, p=parameter_domain)\n",
    "prior = stats.beta(a=alpha,b=beta).pdf(parameter_domain)\n",
    "c = 8.75; joint = c*likelihood*prior # elementwise multiplication\n",
    "posterior = stats.beta(a=x+alpha,b=n-x+beta).pdf(parameter_domain)\n",
    "plt.figure(figsize=(12,4)); plt.plot(parameter_domain, likelihood, label=\"likelihood\"); plt.plot(parameter_domain, prior, label=\"prior\"); plt.plot(parameter_domain, posterior, label=\"posterior\"); plt.plot(parameter_domain, joint, linestyle=\"--\", label=\"joint (times scalar \"+str(c)+\")\"); plt.legend(); plt.title(\"Visualize various priors, likelihoods, posteriors... and joint distribution (which is proportional to...)\"); "
   ]
  },
  {
   "cell_type": "markdown",
   "id": "3f81eb51",
   "metadata": {
    "slideshow": {
     "slide_type": "slide"
    }
   },
   "source": [
    "# Homework #1: AB-testing<br>and the Multi-Armed Bayesian Bandit\n",
    "\n",
    "### You have three choices... choose wisely, my friends...\n",
    "\n",
    "\n",
    "|Option|The \"Red\" one|The \"Blue\" one|The \"Other\" one|\n",
    "|-|-|-|-|\n",
    "|Unknown Probability of Success|$\\theta_A$ | $\\theta_B$ | $\\theta_C$ |\n",
    "\n",
    "$$p(\\theta_j|x_j,n_j) \\propto \\theta^{x_j+\\alpha_j-1}(1-\\theta_j)^{n-x+\\beta_j-1}  \\Rightarrow \\; \\text{What distribution?}$$\n",
    "\n",
    "- Try one out, and collect that data update...\n",
    "    - What's the data?\n",
    "    - What's the update for the posterior in question?\n",
    "- Which one of the three choices will you try out? How will you choose? \n",
    "\n",
    "\n",
    "- Hints: <u>You can use *simulation* to find out the *relative belief* (i.e., probability) that each of the choices is the best.</u> Posterior distributions characterize your beliefs about the parameters $\\theta_A, \\theta_B$ and $\\theta_C$. What can you learn by repeatedly sampling values from the posterior distribution while comparing the values of each triplet? If you know the chances that A, B, and C are the best choice, how could you balance ***exploration versus exploitation*** when choosing which of the possible options to collect the next data point on next?\n",
    "\n"
   ]
  },
  {
   "cell_type": "markdown",
   "id": "fb59c44a-81df-4517-a025-17dde409af2b",
   "metadata": {},
   "source": [
    "# Solution by Huiyang Chen\n",
    "\n",
    "This solution has 2 parts - theoretical derivation and simulation. I found it easier for readers to follow through when I first explain the theory with some examples before giving a big chunk of codes for simulation."
   ]
  },
  {
   "cell_type": "markdown",
   "id": "d3400a99-ea35-4909-83ef-5943545e437e",
   "metadata": {},
   "source": [
    "## Theoretical Derivation\n",
    "This part showcases some example runs of my algorithm, which detailed explanation and derivation of posteriors.\n",
    "First, we specify the parameter values for $\\theta_A$, $\\theta_B$, $\\theta_C$. We chose that $(\\theta_A, \\theta_B, \\theta_C ) = (0.3, 0.5, 0.7)$."
   ]
  },
  {
   "cell_type": "code",
   "execution_count": 4,
   "id": "bfab73d5",
   "metadata": {},
   "outputs": [],
   "source": [
    "# Specify true probability of success for each game\n",
    "pA = 0.3\n",
    "pB = 0.5\n",
    "pC = 0.7"
   ]
  },
  {
   "cell_type": "markdown",
   "id": "66b917f1-5674-422a-8089-24cf11fc9235",
   "metadata": {},
   "source": [
    "Now suppose I am a player who make choices without knowing the underlying probability of success for \"red\", \"blue\" and \"other\" choices. That is to say, I have no prior information to begin with. Therefore, I would use a non-informative prior, that is a flat beta distribution with parameter values $\\alpha = 1, \\beta = 1$. Therefore, my priors are:\n",
    "\n",
    "$p(\\theta_A) = p(\\theta_B) = p(\\theta_C) = f(\\theta) = \n",
    "\\begin{cases} \n",
    "1 & \\text{if } 0 \\leq \\theta \\leq 1, \\\\\n",
    "0 & \\text{otherwise.}\n",
    "\\end{cases}$.\n",
    "\n",
    "$\\theta \\sim Beta(1, 1)$, note that this prior is equivalent to a uniform distribution as $Unif(0, 1)$, so every value from 0 to 1 has an equal probability of being drawn.\n",
    "\n",
    "To start, I will draw a number from the prior distributions of each game, so I will draw 3 numbers in total, each represent the probability of success of a game. The game with the greatest number drawn is the first game that I will play. Note that this is equivalent to rolling a 3 sided dice, where each side has equal chance of showing up and the three sides represent the \"red\", \"blue\" and \"other\" choices."
   ]
  },
  {
   "cell_type": "code",
   "execution_count": 5,
   "id": "396eb918-cc1e-4ac3-a664-d9fcc54a4f44",
   "metadata": {
    "scrolled": true,
    "slideshow": {
     "slide_type": ""
    },
    "tags": []
   },
   "outputs": [
    {
     "data": {
      "text/plain": [
       "0.5963949439861883"
      ]
     },
     "metadata": {},
     "output_type": "display_data"
    },
    {
     "data": {
      "text/plain": [
       "0.800113161049409"
      ]
     },
     "metadata": {},
     "output_type": "display_data"
    },
    {
     "data": {
      "text/plain": [
       "0.6976720779820736"
      ]
     },
     "metadata": {},
     "output_type": "display_data"
    }
   ],
   "source": [
    "import numpy as np; from scipy import stats\n",
    "\n",
    "# Set the seed for replication purpose\n",
    "np.random.seed(365)\n",
    "\n",
    "# Specify flat priors for each choice\n",
    "prior_A = stats.beta(a=1, b=1)\n",
    "prior_B = stats.beta(a=1, b=1)\n",
    "prior_C = stats.beta(a=1, b=1)\n",
    "\n",
    "# Randomly draw numbers from the priors of each choice\n",
    "prob_A = prior_A.rvs()\n",
    "prob_B = prior_B.rvs()\n",
    "prob_C = prior_C.rvs()\n",
    "\n",
    "# Display the random numbers drawn\n",
    "display(prob_A, prob_B, prob_C)"
   ]
  },
  {
   "cell_type": "markdown",
   "id": "eafdda79",
   "metadata": {},
   "source": [
    "From the above random draws from non-informative priors, I can see that the second game, or the \"blue\" choice, yields the highest probability of success. Therefore, the first game that I will play is the second game."
   ]
  },
  {
   "cell_type": "code",
   "execution_count": 6,
   "id": "07dec3e7",
   "metadata": {},
   "outputs": [
    {
     "data": {
      "text/plain": [
       "1"
      ]
     },
     "metadata": {},
     "output_type": "display_data"
    }
   ],
   "source": [
    "# Set the seed\n",
    "np.random.seed(365)\n",
    "\n",
    "# Get result from playing the second game\n",
    "# Note that [0] in the end is to convert object from np.array to int\n",
    "outcome_B = np.random.binomial(n=1, p=pB, size=1)[0]\n",
    "display(outcome_B)"
   ]
  },
  {
   "cell_type": "markdown",
   "id": "c2a046c6",
   "metadata": {},
   "source": [
    "The result I got from playing the second game is 1. Great, I won! So now I have 1 data point from the second game and that data point is 1. I can use this data point to get my likelihood for the second game.\n",
    "\n",
    "According to the context, we know the outcome of each game follows a Bernoulli distribution with probability of success being $\\theta$, or equivalently a special case of Binomial distribution with the number of trial being 1 and the probability of success of each trial being $\\theta$.\n",
    "\n",
    "Therefore, we have $x_{B} \\sim Bin(n_B, \\theta_B)$, and similarly for $x_{A}, x_{C}$. For now, I have only played the second game once, so $n_B=1, n_A = n_C = 0$, and $\\theta_B = 0.800113161049409$ from the previous draw from my prior.\n",
    "\n",
    "Let $(x_{A}, x_{B}, x_{C})$ denotes for the observed number of success for each game played, I can compute the likelihoods of the second game as:\n",
    "\n",
    "$P(x_B | \\theta_B) = \\theta_B^{x_B} (1-\\theta_B)^{n_B-x_B}$\n",
    "\n",
    "I can then update my belief on how likely the second game will yield a successful result by multiplying the prior distribution and the likelihood, like this:\n",
    "\n",
    "$\\text{Posterior} \\propto \\text{likelihood} * \\text{prior}$\n",
    "\n",
    "$P(\\theta_B | x_B) \\propto p(x_B | \\theta_B) p(\\theta_B)$\n",
    "\n",
    "Since my prior distribution is a beta distribution, and my likelihood is essentially a binomial distribution, I can use a beta-binomial distribution given in class for further computation of a posterior distribution, instead of multiplying the distributions by hand. \n",
    "\n",
    "$P(\\theta_B | x_B) \\propto \\theta_B^{x_B+\\alpha-1}(1-\\theta_B)^{n-x_B+\\beta-1}$\n",
    "\n",
    "I can further simplify this by substituting $x_B = 1, n = 1$. Note that the formula after substitution is essentially a beta distribution. Also note that the distribution for $\\theta$ has to be beta due to the fact that $\\theta$ is continously distributed between 0 and 1.\n",
    "\n",
    "$P(\\theta_B | x_B) \\propto \\theta_B^{(\\alpha + 1) - 1} (1-\\theta_B)^{\\beta-1}$\n",
    "\n",
    "Great! I have successfully updated my belief on the second game by replacing my previous prior with this posterior. This posterior is specified as $\\theta_B \\sim Beta(\\alpha + 1, \\beta) = Beta (2, 1)$. This posterior now becomes my prior for the second game in the next round of deciding which game to play. Now I am going to repeat the same procedure, drawing random numbers from my priors and play the game with the highest number drawn. Note that whenever I win a game, I would add 1 to the value of alpha in the posterior distribution.\n"
   ]
  },
  {
   "cell_type": "code",
   "execution_count": 7,
   "id": "0a08a22b",
   "metadata": {},
   "outputs": [],
   "source": [
    "# Get posterior of the second game\n",
    "posterior_B = stats.beta(a=2, b=1)\n",
    "\n",
    "# Update prior of the second game for the next round of gameplay\n",
    "prior_B = posterior_B"
   ]
  },
  {
   "cell_type": "code",
   "execution_count": 8,
   "id": "e3a020d7",
   "metadata": {
    "scrolled": true
   },
   "outputs": [
    {
     "data": {
      "text/plain": [
       "0.19548051391991142"
      ]
     },
     "metadata": {},
     "output_type": "display_data"
    },
    {
     "data": {
      "text/plain": [
       "0.47182267742252404"
      ]
     },
     "metadata": {},
     "output_type": "display_data"
    },
    {
     "data": {
      "text/plain": [
       "0.7874699794778672"
      ]
     },
     "metadata": {},
     "output_type": "display_data"
    }
   ],
   "source": [
    "# Set seed, but a different seed since it's not the same round of game\n",
    "np.random.seed(366)\n",
    "\n",
    "# Conduct random draws again\n",
    "prob_A = prior_A.rvs()\n",
    "prob_B = prior_B.rvs()\n",
    "prob_C = prior_C.rvs()\n",
    "\n",
    "# Display the random numbers drawn\n",
    "display(prob_A, prob_B, prob_C)"
   ]
  },
  {
   "cell_type": "markdown",
   "id": "b52e6421",
   "metadata": {},
   "source": [
    "This time, the third game has the largest probability of success, so let's play the third game."
   ]
  },
  {
   "cell_type": "code",
   "execution_count": 9,
   "id": "d75ff149",
   "metadata": {},
   "outputs": [
    {
     "data": {
      "text/plain": [
       "1"
      ]
     },
     "metadata": {},
     "output_type": "display_data"
    }
   ],
   "source": [
    "# Set the seed\n",
    "np.random.seed(366)\n",
    "\n",
    "# Get result from playing the second game\n",
    "outcome_C = np.random.binomial(n=1, p=pC, size=1)[0]\n",
    "display(outcome_C)"
   ]
  },
  {
   "cell_type": "markdown",
   "id": "eb08ad25",
   "metadata": {},
   "source": [
    "I won again! I will update my belief (posterior) on the third game with the same procedure that I used for the second game."
   ]
  },
  {
   "cell_type": "code",
   "execution_count": 10,
   "id": "ac423c86",
   "metadata": {},
   "outputs": [],
   "source": [
    "# Get posterior of the third game\n",
    "posterior_C = stats.beta(a=2, b=1)\n",
    "\n",
    "# Update prior of the third game for the next round of gameplay\n",
    "prior_C = posterior_C"
   ]
  },
  {
   "cell_type": "markdown",
   "id": "65feecc9",
   "metadata": {},
   "source": [
    "From this point, I will keep playing until I lose once, and see how to update my belief in that case."
   ]
  },
  {
   "cell_type": "code",
   "execution_count": 11,
   "id": "97b4e437",
   "metadata": {},
   "outputs": [
    {
     "data": {
      "text/plain": [
       "0.4127959274750226"
      ]
     },
     "metadata": {},
     "output_type": "display_data"
    },
    {
     "data": {
      "text/plain": [
       "0.7960773104418756"
      ]
     },
     "metadata": {},
     "output_type": "display_data"
    },
    {
     "data": {
      "text/plain": [
       "0.6780419993993431"
      ]
     },
     "metadata": {},
     "output_type": "display_data"
    }
   ],
   "source": [
    "# Set seed, but a different seed since it's the third round of game\n",
    "np.random.seed(367)\n",
    "\n",
    "# Conduct random draws again\n",
    "prob_A = prior_A.rvs()\n",
    "prob_B = prior_B.rvs()\n",
    "prob_C = prior_C.rvs()\n",
    "\n",
    "# Display the random numbers drawn\n",
    "display(prob_A, prob_B, prob_C)"
   ]
  },
  {
   "cell_type": "code",
   "execution_count": 12,
   "id": "60dbbfeb",
   "metadata": {},
   "outputs": [
    {
     "data": {
      "text/plain": [
       "0"
      ]
     },
     "metadata": {},
     "output_type": "display_data"
    }
   ],
   "source": [
    "# Play the second game for the second time\n",
    "\n",
    "# Set the seed\n",
    "np.random.seed(367)\n",
    "\n",
    "# Get result from playing the second game\n",
    "outcome_B = np.random.binomial(n=1, p=pB, size=1)[0]\n",
    "display(outcome_B)"
   ]
  },
  {
   "cell_type": "markdown",
   "id": "e94ab8d5",
   "metadata": {},
   "source": [
    "Okay, I lost this time. Let's see what happens to my posterior after losing.\n",
    "I have played the second game twice and got 1 success and 1 failure, so $n_B = 2, x_B = 1$.\n",
    "\n",
    "Plugging them into the formula derived previously for my posterior, I get:\n",
    "\n",
    "$P(\\theta_B | x_B) \\propto \\theta_B^{x_B+\\alpha-1}(1-\\theta_B)^{n-x_B+\\beta-1} = \\theta_B^{(\\alpha+1)-1}(1-\\theta_B)^{(\\beta+1)-1}$\n",
    "\n",
    "So, whenever I lose the game once, I would add 1 to the value of $\\beta$ as the parameter value of the Beta distribution for my posterior.\n"
   ]
  },
  {
   "cell_type": "code",
   "execution_count": 13,
   "id": "fd954bae",
   "metadata": {},
   "outputs": [],
   "source": [
    "# Update posterior of the second game\n",
    "posterior_B = stats.beta(a=2, b=2)\n",
    "\n",
    "# Update prior of the second game for the next round of gameplay\n",
    "prior_B = posterior_B"
   ]
  },
  {
   "cell_type": "markdown",
   "id": "ce2a1c95",
   "metadata": {},
   "source": [
    "Let's do one more round."
   ]
  },
  {
   "cell_type": "code",
   "execution_count": 14,
   "id": "90e04a8f",
   "metadata": {},
   "outputs": [
    {
     "data": {
      "text/plain": [
       "0.9998169277937177"
      ]
     },
     "metadata": {},
     "output_type": "display_data"
    },
    {
     "data": {
      "text/plain": [
       "0.5098039283809402"
      ]
     },
     "metadata": {},
     "output_type": "display_data"
    },
    {
     "data": {
      "text/plain": [
       "0.459466407487918"
      ]
     },
     "metadata": {},
     "output_type": "display_data"
    }
   ],
   "source": [
    "# Set seed, but a different seed since it's the fourth round of game\n",
    "np.random.seed(368)\n",
    "\n",
    "# Conduct random draws again\n",
    "prob_A = prior_A.rvs()\n",
    "prob_B = prior_B.rvs()\n",
    "prob_C = prior_C.rvs()\n",
    "\n",
    "# Display the random numbers drawn\n",
    "display(prob_A, prob_B, prob_C)"
   ]
  },
  {
   "cell_type": "markdown",
   "id": "1b35858c",
   "metadata": {},
   "source": [
    "I will play game A this time. We'll stop here for our round-by-round demonstration, and carry out all simulations from the beginning nicely in a big chunk of code, and see whether our draws of $(\\theta_A, \\theta_B, \\theta_C)$, or the probability of success, approximates the true values of $(\\theta_A, \\theta_B, \\theta_C) = (0.3, 0.5, 0,7)$."
   ]
  },
  {
   "cell_type": "markdown",
   "id": "cb6d3a3d-003f-4304-9166-b42f8c8ba8dd",
   "metadata": {},
   "source": [
    "## Simulation"
   ]
  },
  {
   "cell_type": "code",
   "execution_count": 15,
   "id": "506a7e2a-393f-4e29-a6d0-a3131b2975b4",
   "metadata": {},
   "outputs": [],
   "source": [
    "# Specify a function to find mode - could be helpful when presenting the result\n",
    "def find_beta_mode(alpha, beta):\n",
    "    if alpha > 1 and beta > 1:\n",
    "        mode = (alpha - 1) / (alpha + beta - 2) # This is the formula for mode\n",
    "    elif alpha == 1 and beta > 1:\n",
    "        mode = 0 # The 'mode', or the highest density, is at 0 when alpha = 1, beta > 1\n",
    "    elif alpha > 1 and beta == 1:\n",
    "        mode = 1 # The 'mode', or the highest density, is at 1 when alpha > 1, beta = 1\n",
    "    else:\n",
    "        mode = None # In the case of a flat distribution, we do not have a mode\n",
    "    return mode"
   ]
  },
  {
   "cell_type": "code",
   "execution_count": 29,
   "id": "885fecb3-2ff5-48d4-b574-1cad3bdb1519",
   "metadata": {
    "scrolled": true
   },
   "outputs": [],
   "source": [
    "# Carry out the simulation more formally\n",
    "# Set the seed\n",
    "np.random.seed(365)\n",
    "# Set parameter values for true theta\n",
    "pA = 0.3; pB = 0.5; pC = 0.7\n",
    "# Initiate flat beta priors\n",
    "prior_A = stats.beta(a=1, b=1)\n",
    "prior_B = stats.beta(a=1, b=1)\n",
    "prior_C = stats.beta(a=1, b=1)\n",
    "# Create parallel lists to store true theta, priors, posteriors, alpha, beta, n for each game\n",
    "true_thetas = [pA, pB, pC]\n",
    "priors = [prior_A, prior_B, prior_C]\n",
    "posteriors = [prior_A, prior_B, prior_C]\n",
    "alphas = [1, 1, 1]\n",
    "betas = [1, 1, 1]\n",
    "num_played = [0, 0, 0]\n",
    "# Create empty lists to track outcome and posterior mode for eeach game\n",
    "rounds = []\n",
    "games = [\"A\", \"B\", \"C\"]\n",
    "game_played = []\n",
    "results = []\n",
    "modA = []\n",
    "modB = []\n",
    "modC = []\n",
    "mods = [modA, modB, modC]\n",
    "\n",
    "for num_play in range(1,251): # Let's play 250 rounds\n",
    "    #print(\"now playing round \" + str(num_play))\n",
    "    # Record the number of round\n",
    "    rounds.append(num_play)\n",
    "    # Create empty list to store random draws from priors\n",
    "    probs = []\n",
    "    # First, loop through the priors to get random draws\n",
    "    for prior in enumerate(priors):\n",
    "        # Note that enumerate creates a tuple object, with the first index as the actual index, \n",
    "        # and the second index as the object, that's why I need to add [1] here\n",
    "        probs.append(prior[1].rvs()) \n",
    "    #print(\" The prob. drawn from priors are \" + str(probs))\n",
    "    # Decide which game to play by identifying the largest probability of succeed based on prior\n",
    "    max_prob = max(probs)\n",
    "    game_to_play = probs.index(max_prob)\n",
    "    # Play the actual game\n",
    "    outcome = stats.binom(n=1, p=true_thetas[game_to_play]).rvs(size=1)[0]\n",
    "    # Record the game played, the result obtained, and the cumulative number of game played\n",
    "    game_played.append(games[game_to_play])\n",
    "    results.append(outcome)\n",
    "    num_played[game_to_play] += 1\n",
    "    #print(\"Game \" + str(game_to_play) + \" played, and outcomes drawn is \" + str(outcome))\n",
    "    if outcome == 1:\n",
    "        alphas[game_to_play] += 1 # add 1 to alpha if I win\n",
    "        #print(\"The alphas are: \" + str(alphas))\n",
    "    else:\n",
    "        betas[game_to_play] += 1 # add 1 to beta if I lose\n",
    "        #print(\"The betas are: \" + str(betas))\n",
    "    # Update posteriors\n",
    "    posteriors[game_to_play] = stats.beta(a=alphas[game_to_play], b=betas[game_to_play])\n",
    "    # Record the modes\n",
    "    for i in range(0,3):\n",
    "        mods[i].append(find_beta_mode(alphas[i], betas[i]))\n",
    "    # Update priors with posteriors\n",
    "    priors = posteriors\n",
    "    # Move on to the next round\n",
    "    num_play += 1"
   ]
  },
  {
   "cell_type": "code",
   "execution_count": 30,
   "id": "f71919e6",
   "metadata": {},
   "outputs": [],
   "source": [
    "# After a number of rounds, let's see where the mode is\n",
    "modes = []\n",
    "for i in range(0,3):\n",
    "    modes.append(find_beta_mode(alphas[i], betas[i]))"
   ]
  },
  {
   "cell_type": "code",
   "execution_count": 31,
   "id": "ea80bcf5-e92f-4f33-b6af-b741fd531603",
   "metadata": {},
   "outputs": [
    {
     "name": "stdout",
     "output_type": "stream",
     "text": [
      "  game    n  alpha  beta      mode\n",
      "0    A    6      3     5  0.333333\n",
      "1    B   14      7     9  0.428571\n",
      "2    C  230    165    67  0.713043\n"
     ]
    }
   ],
   "source": [
    "import pandas as pd\n",
    "\n",
    "games = ['A', 'B', 'C']\n",
    "# Display the simulation results in a table\n",
    "df = pd.DataFrame({'game': games, 'n': num_played, 'alpha': alphas, 'beta': betas, 'mode': modes})\n",
    "print(df)"
   ]
  },
  {
   "cell_type": "markdown",
   "id": "7d097259-2656-4fcf-b956-f9293ba98764",
   "metadata": {},
   "source": [
    "Here, we can see that, from 250 rounds of gameplays, I have played the first game for 6 times, the second game for 14 times, and the third game for 230 times. The mode column here gives the mode for the posterior distributions of each game. We can see that the modes are $(0.33, 0.43, 0.71)$, which are close to the true parameter values of theta (the true probability of succeed) being $(0.30, 0.50, 0.70)$. Therefore, we conclude that the algorithm established successfully determines which game is more likely to give successful outcomes, which is the third game."
   ]
  },
  {
   "cell_type": "code",
   "execution_count": 33,
   "id": "1a759b57-9edb-4e05-a7fb-feebd3408370",
   "metadata": {},
   "outputs": [
    {
     "name": "stdout",
     "output_type": "stream",
     "text": [
      "     round game played  outcome    Mode A    Mode B    Mode C\n",
      "0        1           B        1       NaN  1.000000       NaN\n",
      "1        2           B        1       NaN  1.000000       NaN\n",
      "2        3           A        0  0.000000  1.000000       NaN\n",
      "3        4           B        0  0.000000  0.666667       NaN\n",
      "4        5           B        1  0.000000  0.750000       NaN\n",
      "5        6           B        1  0.000000  0.800000       NaN\n",
      "6        7           B        1  0.000000  0.833333       NaN\n",
      "7        8           C        1  0.000000  0.833333  1.000000\n",
      "8        9           B        0  0.000000  0.714286  1.000000\n",
      "9       10           C        1  0.000000  0.714286  1.000000\n",
      "10      11           C        0  0.000000  0.714286  0.666667\n",
      "11      12           B        0  0.000000  0.625000  0.666667\n",
      "12      13           C        1  0.000000  0.625000  0.750000\n",
      "13      14           B        1  0.000000  0.666667  0.750000\n",
      "14      15           C        1  0.000000  0.666667  0.800000\n",
      "15      16           C        1  0.000000  0.666667  0.833333\n",
      "16      17           B        0  0.000000  0.600000  0.833333\n",
      "17      18           C        1  0.000000  0.600000  0.857143\n",
      "18      19           A        0  0.000000  0.600000  0.857143\n",
      "19      20           C        1  0.000000  0.600000  0.875000\n",
      "20      21           C        1  0.000000  0.600000  0.888889\n",
      "21      22           C        1  0.000000  0.600000  0.900000\n",
      "22      23           C        1  0.000000  0.600000  0.909091\n",
      "23      24           C        1  0.000000  0.600000  0.916667\n",
      "24      25           C        1  0.000000  0.600000  0.923077\n",
      "25      26           C        1  0.000000  0.600000  0.928571\n",
      "26      27           C        0  0.000000  0.600000  0.866667\n",
      "27      28           C        1  0.000000  0.600000  0.875000\n",
      "28      29           C        1  0.000000  0.600000  0.882353\n",
      "29      30           C        1  0.000000  0.600000  0.888889\n",
      "30      31           C        0  0.000000  0.600000  0.842105\n",
      "31      32           C        1  0.000000  0.600000  0.850000\n",
      "32      33           C        1  0.000000  0.600000  0.857143\n",
      "33      34           C        1  0.000000  0.600000  0.863636\n",
      "34      35           C        0  0.000000  0.600000  0.826087\n",
      "35      36           C        1  0.000000  0.600000  0.833333\n",
      "36      37           C        1  0.000000  0.600000  0.840000\n",
      "37      38           C        0  0.000000  0.600000  0.807692\n",
      "38      39           C        1  0.000000  0.600000  0.814815\n",
      "39      40           C        1  0.000000  0.600000  0.821429\n",
      "40      41           C        0  0.000000  0.600000  0.793103\n",
      "41      42           C        0  0.000000  0.600000  0.766667\n",
      "42      43           B        0  0.000000  0.545455  0.766667\n",
      "43      44           C        1  0.000000  0.545455  0.774194\n",
      "44      45           C        1  0.000000  0.545455  0.781250\n",
      "45      46           C        0  0.000000  0.545455  0.757576\n",
      "46      47           C        0  0.000000  0.545455  0.735294\n",
      "47      48           C        0  0.000000  0.545455  0.714286\n",
      "48      49           C        1  0.000000  0.545455  0.722222\n",
      "49      50           B        0  0.000000  0.500000  0.722222\n",
      "50      51           C        1  0.000000  0.500000  0.729730\n",
      "51      52           C        1  0.000000  0.500000  0.736842\n",
      "52      53           C        1  0.000000  0.500000  0.743590\n",
      "53      54           C        0  0.000000  0.500000  0.725000\n",
      "54      55           C        1  0.000000  0.500000  0.731707\n",
      "55      56           C        0  0.000000  0.500000  0.714286\n",
      "56      57           C        1  0.000000  0.500000  0.720930\n",
      "57      58           C        1  0.000000  0.500000  0.727273\n",
      "58      59           C        1  0.000000  0.500000  0.733333\n",
      "59      60           C        1  0.000000  0.500000  0.739130\n",
      "60      61           C        1  0.000000  0.500000  0.744681\n",
      "61      62           C        1  0.000000  0.500000  0.750000\n",
      "62      63           C        1  0.000000  0.500000  0.755102\n",
      "63      64           C        1  0.000000  0.500000  0.760000\n",
      "64      65           C        1  0.000000  0.500000  0.764706\n",
      "65      66           C        1  0.000000  0.500000  0.769231\n",
      "66      67           C        0  0.000000  0.500000  0.754717\n",
      "67      68           C        1  0.000000  0.500000  0.759259\n",
      "68      69           C        1  0.000000  0.500000  0.763636\n",
      "69      70           C        0  0.000000  0.500000  0.750000\n",
      "70      71           C        1  0.000000  0.500000  0.754386\n",
      "71      72           C        1  0.000000  0.500000  0.758621\n",
      "72      73           C        0  0.000000  0.500000  0.745763\n",
      "73      74           B        0  0.000000  0.461538  0.745763\n",
      "74      75           C        0  0.000000  0.461538  0.733333\n",
      "75      76           C        1  0.000000  0.461538  0.737705\n",
      "76      77           C        1  0.000000  0.461538  0.741935\n",
      "77      78           C        0  0.000000  0.461538  0.730159\n",
      "78      79           C        1  0.000000  0.461538  0.734375\n",
      "79      80           C        0  0.000000  0.461538  0.723077\n",
      "80      81           C        1  0.000000  0.461538  0.727273\n",
      "81      82           C        0  0.000000  0.461538  0.716418\n",
      "82      83           C        0  0.000000  0.461538  0.705882\n",
      "83      84           C        1  0.000000  0.461538  0.710145\n",
      "84      85           C        1  0.000000  0.461538  0.714286\n",
      "85      86           C        1  0.000000  0.461538  0.718310\n",
      "86      87           C        0  0.000000  0.461538  0.708333\n",
      "87      88           C        0  0.000000  0.461538  0.698630\n",
      "88      89           C        0  0.000000  0.461538  0.689189\n",
      "89      90           C        1  0.000000  0.461538  0.693333\n",
      "90      91           C        0  0.000000  0.461538  0.684211\n",
      "91      92           C        1  0.000000  0.461538  0.688312\n",
      "92      93           C        1  0.000000  0.461538  0.692308\n",
      "93      94           C        1  0.000000  0.461538  0.696203\n",
      "94      95           C        1  0.000000  0.461538  0.700000\n",
      "95      96           C        0  0.000000  0.461538  0.691358\n",
      "96      97           C        0  0.000000  0.461538  0.682927\n",
      "97      98           C        1  0.000000  0.461538  0.686747\n",
      "98      99           C        0  0.000000  0.461538  0.678571\n",
      "99     100           C        1  0.000000  0.461538  0.682353\n",
      "100    101           C        1  0.000000  0.461538  0.686047\n",
      "101    102           C        0  0.000000  0.461538  0.678161\n",
      "102    103           C        1  0.000000  0.461538  0.681818\n",
      "103    104           C        1  0.000000  0.461538  0.685393\n",
      "104    105           C        0  0.000000  0.461538  0.677778\n",
      "105    106           C        1  0.000000  0.461538  0.681319\n",
      "106    107           C        1  0.000000  0.461538  0.684783\n",
      "107    108           C        0  0.000000  0.461538  0.677419\n",
      "108    109           C        1  0.000000  0.461538  0.680851\n",
      "109    110           C        1  0.000000  0.461538  0.684211\n",
      "110    111           C        1  0.000000  0.461538  0.687500\n",
      "111    112           C        0  0.000000  0.461538  0.680412\n",
      "112    113           C        1  0.000000  0.461538  0.683673\n",
      "113    114           C        1  0.000000  0.461538  0.686869\n",
      "114    115           C        0  0.000000  0.461538  0.680000\n",
      "115    116           C        1  0.000000  0.461538  0.683168\n",
      "116    117           C        1  0.000000  0.461538  0.686275\n",
      "117    118           C        1  0.000000  0.461538  0.689320\n",
      "118    119           C        1  0.000000  0.461538  0.692308\n",
      "119    120           C        0  0.000000  0.461538  0.685714\n",
      "120    121           C        1  0.000000  0.461538  0.688679\n",
      "121    122           C        1  0.000000  0.461538  0.691589\n",
      "122    123           C        1  0.000000  0.461538  0.694444\n",
      "123    124           C        1  0.000000  0.461538  0.697248\n",
      "124    125           C        0  0.000000  0.461538  0.690909\n",
      "125    126           C        1  0.000000  0.461538  0.693694\n",
      "126    127           C        1  0.000000  0.461538  0.696429\n",
      "127    128           C        1  0.000000  0.461538  0.699115\n",
      "128    129           C        1  0.000000  0.461538  0.701754\n",
      "129    130           C        1  0.000000  0.461538  0.704348\n",
      "130    131           C        1  0.000000  0.461538  0.706897\n",
      "131    132           C        1  0.000000  0.461538  0.709402\n",
      "132    133           C        0  0.000000  0.461538  0.703390\n",
      "133    134           C        1  0.000000  0.461538  0.705882\n",
      "134    135           C        0  0.000000  0.461538  0.700000\n",
      "135    136           C        0  0.000000  0.461538  0.694215\n",
      "136    137           C        1  0.000000  0.461538  0.696721\n",
      "137    138           C        1  0.000000  0.461538  0.699187\n",
      "138    139           C        1  0.000000  0.461538  0.701613\n",
      "139    140           C        0  0.000000  0.461538  0.696000\n",
      "140    141           B        0  0.000000  0.428571  0.696000\n",
      "141    142           C        1  0.000000  0.428571  0.698413\n",
      "142    143           C        1  0.000000  0.428571  0.700787\n",
      "143    144           C        1  0.000000  0.428571  0.703125\n",
      "144    145           C        1  0.000000  0.428571  0.705426\n",
      "145    146           C        0  0.000000  0.428571  0.700000\n",
      "146    147           C        1  0.000000  0.428571  0.702290\n",
      "147    148           C        1  0.000000  0.428571  0.704545\n",
      "148    149           C        0  0.000000  0.428571  0.699248\n",
      "149    150           C        1  0.000000  0.428571  0.701493\n",
      "150    151           C        1  0.000000  0.428571  0.703704\n",
      "151    152           C        1  0.000000  0.428571  0.705882\n",
      "152    153           C        1  0.000000  0.428571  0.708029\n",
      "153    154           C        0  0.000000  0.428571  0.702899\n",
      "154    155           C        1  0.000000  0.428571  0.705036\n",
      "155    156           C        1  0.000000  0.428571  0.707143\n",
      "156    157           C        0  0.000000  0.428571  0.702128\n",
      "157    158           C        1  0.000000  0.428571  0.704225\n",
      "158    159           C        0  0.000000  0.428571  0.699301\n",
      "159    160           C        1  0.000000  0.428571  0.701389\n",
      "160    161           C        1  0.000000  0.428571  0.703448\n",
      "161    162           C        1  0.000000  0.428571  0.705479\n",
      "162    163           C        0  0.000000  0.428571  0.700680\n",
      "163    164           C        1  0.000000  0.428571  0.702703\n",
      "164    165           C        0  0.000000  0.428571  0.697987\n",
      "165    166           C        1  0.000000  0.428571  0.700000\n",
      "166    167           C        1  0.000000  0.428571  0.701987\n",
      "167    168           C        0  0.000000  0.428571  0.697368\n",
      "168    169           C        1  0.000000  0.428571  0.699346\n",
      "169    170           C        1  0.000000  0.428571  0.701299\n",
      "170    171           C        1  0.000000  0.428571  0.703226\n",
      "171    172           C        1  0.000000  0.428571  0.705128\n",
      "172    173           C        1  0.000000  0.428571  0.707006\n",
      "173    174           C        0  0.000000  0.428571  0.702532\n",
      "174    175           C        1  0.000000  0.428571  0.704403\n",
      "175    176           C        1  0.000000  0.428571  0.706250\n",
      "176    177           C        0  0.000000  0.428571  0.701863\n",
      "177    178           C        1  0.000000  0.428571  0.703704\n",
      "178    179           A        0  0.000000  0.428571  0.703704\n",
      "179    180           C        1  0.000000  0.428571  0.705521\n",
      "180    181           C        1  0.000000  0.428571  0.707317\n",
      "181    182           C        1  0.000000  0.428571  0.709091\n",
      "182    183           C        1  0.000000  0.428571  0.710843\n",
      "183    184           C        1  0.000000  0.428571  0.712575\n",
      "184    185           C        0  0.000000  0.428571  0.708333\n",
      "185    186           C        1  0.000000  0.428571  0.710059\n",
      "186    187           C        1  0.000000  0.428571  0.711765\n",
      "187    188           C        0  0.000000  0.428571  0.707602\n",
      "188    189           C        1  0.000000  0.428571  0.709302\n",
      "189    190           C        1  0.000000  0.428571  0.710983\n",
      "190    191           C        1  0.000000  0.428571  0.712644\n",
      "191    192           C        1  0.000000  0.428571  0.714286\n",
      "192    193           C        1  0.000000  0.428571  0.715909\n",
      "193    194           C        1  0.000000  0.428571  0.717514\n",
      "194    195           C        0  0.000000  0.428571  0.713483\n",
      "195    196           C        1  0.000000  0.428571  0.715084\n",
      "196    197           C        0  0.000000  0.428571  0.711111\n",
      "197    198           C        1  0.000000  0.428571  0.712707\n",
      "198    199           C        0  0.000000  0.428571  0.708791\n",
      "199    200           C        1  0.000000  0.428571  0.710383\n",
      "200    201           C        1  0.000000  0.428571  0.711957\n",
      "201    202           C        1  0.000000  0.428571  0.713514\n",
      "202    203           C        1  0.000000  0.428571  0.715054\n",
      "203    204           C        1  0.000000  0.428571  0.716578\n",
      "204    205           C        1  0.000000  0.428571  0.718085\n",
      "205    206           C        0  0.000000  0.428571  0.714286\n",
      "206    207           C        1  0.000000  0.428571  0.715789\n",
      "207    208           C        1  0.000000  0.428571  0.717277\n",
      "208    209           A        1  0.250000  0.428571  0.717277\n",
      "209    210           C        0  0.250000  0.428571  0.713542\n",
      "210    211           C        1  0.250000  0.428571  0.715026\n",
      "211    212           C        0  0.250000  0.428571  0.711340\n",
      "212    213           C        1  0.250000  0.428571  0.712821\n",
      "213    214           C        1  0.250000  0.428571  0.714286\n",
      "214    215           C        1  0.250000  0.428571  0.715736\n",
      "215    216           C        1  0.250000  0.428571  0.717172\n",
      "216    217           C        1  0.250000  0.428571  0.718593\n",
      "217    218           C        1  0.250000  0.428571  0.720000\n",
      "218    219           C        1  0.250000  0.428571  0.721393\n",
      "219    220           C        1  0.250000  0.428571  0.722772\n",
      "220    221           C        0  0.250000  0.428571  0.719212\n",
      "221    222           C        0  0.250000  0.428571  0.715686\n",
      "222    223           C        1  0.250000  0.428571  0.717073\n",
      "223    224           C        1  0.250000  0.428571  0.718447\n",
      "224    225           C        1  0.250000  0.428571  0.719807\n",
      "225    226           C        0  0.250000  0.428571  0.716346\n",
      "226    227           C        1  0.250000  0.428571  0.717703\n",
      "227    228           A        1  0.400000  0.428571  0.717703\n",
      "228    229           C        1  0.400000  0.428571  0.719048\n",
      "229    230           C        0  0.400000  0.428571  0.715640\n",
      "230    231           C        1  0.400000  0.428571  0.716981\n",
      "231    232           C        0  0.400000  0.428571  0.713615\n",
      "232    233           C        1  0.400000  0.428571  0.714953\n",
      "233    234           C        0  0.400000  0.428571  0.711628\n",
      "234    235           C        1  0.400000  0.428571  0.712963\n",
      "235    236           C        1  0.400000  0.428571  0.714286\n",
      "236    237           C        1  0.400000  0.428571  0.715596\n",
      "237    238           C        1  0.400000  0.428571  0.716895\n",
      "238    239           C        1  0.400000  0.428571  0.718182\n",
      "239    240           C        0  0.400000  0.428571  0.714932\n",
      "240    241           C        0  0.400000  0.428571  0.711712\n",
      "241    242           C        0  0.400000  0.428571  0.708520\n",
      "242    243           C        1  0.400000  0.428571  0.709821\n",
      "243    244           A        0  0.333333  0.428571  0.709821\n",
      "244    245           C        1  0.333333  0.428571  0.711111\n",
      "245    246           C        1  0.333333  0.428571  0.712389\n",
      "246    247           C        1  0.333333  0.428571  0.713656\n",
      "247    248           C        1  0.333333  0.428571  0.714912\n",
      "248    249           C        0  0.333333  0.428571  0.711790\n",
      "249    250           C        1  0.333333  0.428571  0.713043\n"
     ]
    }
   ],
   "source": [
    "# Display the result of all rounds\n",
    "df = pd.DataFrame({'round' : rounds, 'game played' : game_played, 'outcome' : results, \n",
    "'Mode A' : modA, 'Mode B' : modB, 'Mode C' : modC })\n",
    "pd.set_option('display.max_rows', None)\n",
    "print(df)"
   ]
  },
  {
   "cell_type": "markdown",
   "id": "19f78475-a6d8-4661-97c7-1d7e939977d1",
   "metadata": {},
   "source": [
    "The above table displays the results from each round of game play, where the game played, outcome, and the mode of posteriors after playing the game are recorded. We can discuss about the balance between exploration versus exploitation from this table. As displayed, we can see that starting from the 20th round of game play, the algorithm prefers choosing to play the third game over the first and the second games. This reflects that the algorithm believes that the third game is more likely to give successful outcomes. Therefore, we can conclude that the algorithm starts off conducting some exploration rounds (roughly the first 20 rounds), and after getting enough information to update the belief that the third game is more likely to yield successful outcome, the algorithm leans toward exploitation by playing the third game more often than the other two games. We can also notice that the posterior modes of games gradually approach the true probability of succeed, which are 0.3, 0.5 and 0.7 respectively, indicating that our algorithm is working as expected. "
   ]
  },
  {
   "cell_type": "code",
   "execution_count": 22,
   "id": "8292a38f-12b7-475e-a115-2183c19c395c",
   "metadata": {},
   "outputs": [
    {
     "data": {
      "image/png": "[encoded data removed]",
      "text/plain": [
       "<Figure size 1200x400 with 1 Axes>"
      ]
     },
     "metadata": {},
     "output_type": "display_data"
    }
   ],
   "source": [
    "import matplotlib.pyplot as plt\n",
    "#n,x=10,8; alpha,beta=10,11; \n",
    "parameter_domain = np.linspace(0,1,1001)\n",
    "#likelihood = stats.binom.pmf(n=n, k=x, p=parameter_domain)\n",
    "#prior = stats.beta(a=alpha,b=beta).pdf(parameter_domain)\n",
    "#c = 8.75; joint = c*likelihood*prior # elementwise multiplication\n",
    "postA = posteriors[0].pdf(parameter_domain)\n",
    "postB = posteriors[1].pdf(parameter_domain)\n",
    "postC = posteriors[2].pdf(parameter_domain)\n",
    "\n",
    "plt.figure(figsize=(12,4))\n",
    "plt.plot(parameter_domain, postA, label=\"Game A\");\n",
    "plt.plot(parameter_domain, postB, label=\"Game B\"); \n",
    "plt.plot(parameter_domain, postC, label=\"Game C\"); \n",
    "plt.legend(); \n",
    "plt.title(\"Posteriors for Each Game after 50 Rounds\");"
   ]
  },
  {
   "cell_type": "markdown",
   "id": "ce32a29e-b346-4ccc-b197-cd153630aa37",
   "metadata": {},
   "source": [
    "Finally, we can take a look at the posterior distributions of each game after 250 rounds of gameplays, and we can see that the posterior distributions of the three games are roughly symmetrically distributed around the true probability of succeed (0.3, 0.5 and 0.7 respectively). Again, this indicates that our algorithm successfully gives posterior distributions as expected. "
   ]
  },
  {
   "cell_type": "code",
   "execution_count": null,
   "id": "691a0c02-d496-4c00-b470-39630cc7eab6",
   "metadata": {},
   "outputs": [],
   "source": []
  },
  {
   "cell_type": "code",
   "execution_count": null,
   "id": "5a5a8984-066d-41c0-a640-ade5e65a9f94",
   "metadata": {},
   "outputs": [],
   "source": []
  }
 ],
 "metadata": {
  "celltoolbar": "Slideshow",
  "kernelspec": {
   "display_name": "Python 3 (ipykernel)",
   "language": "python",
   "name": "python3"
  },
  "language_info": {
   "codemirror_mode": {
    "name": "ipython",
    "version": 3
   },
   "file_extension": ".py",
   "mimetype": "text/x-python",
   "name": "python",
   "nbconvert_exporter": "python",
   "pygments_lexer": "ipython3",
   "version": "3.11.6"
  }
 },
 "nbformat": 4,
 "nbformat_minor": 5
}
